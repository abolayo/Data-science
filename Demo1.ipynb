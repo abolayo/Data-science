{
  "nbformat": 4,
  "nbformat_minor": 0,
  "metadata": {
    "colab": {
      "name": "Demo1.ipynb",
      "provenance": [],
      "collapsed_sections": []
    },
    "kernelspec": {
      "name": "python3",
      "display_name": "Python 3"
    },
    "language_info": {
      "name": "python"
    }
  },
  "cells": [
    {
      "cell_type": "code",
      "metadata": {
        "id": "dc71oAvbg7Ps"
      },
      "source": [
        ""
      ],
      "execution_count": null,
      "outputs": []
    },
    {
      "cell_type": "markdown",
      "metadata": {
        "id": "4bjf-m02hFPL"
      },
      "source": [
        "<b>Customer retention Analytics\n",
        "Business Problem:</b>\\\n",
        "An International bank collected a sample data of 10,000 customers. They observed that some of their custimers are leaving or churning in an unusually high rate and they want to find understand and access why their customers keep leaving. They have hiered you as a data scientist to look into the data to give then some insight.\n",
        "\n",
        "\n",
        "<b>Data:</b>\\\n",
        "The data was collected within the last 5 months, the feautures include the customer's name, creditscore, geography, gendey,age,tenure,balnce, number of products(accounts),credit card status(whether they have one or not), estimated salary, activity status(active member or not) and if the customer remained with them.\n",
        "\n",
        "<b>Goal:</b>\\\n",
        "Your goal is to create a geodemographic segmentation to identify which of the customers have the highest risk of leaving."
      ]
    },
    {
      "cell_type": "code",
      "metadata": {
        "id": "ho8jfFuiiYwZ"
      },
      "source": [
        "#importing the necessary libraries\n",
        "import numpy as np\n",
        "import pandas as pd\n",
        "import matplotlib.pyplot as plt\n",
        "import seaborn as sns\n",
        "from sklearn.preprocessing import LabelEncoder\n",
        "from sklearn.preprocessing import OneHotEncoder\n",
        "from sklearn.model_selection import train_test_split\n",
        "from sklearn.preprocessing import StandardScaler\n",
        "from sklearn.preprocessing import MinMaxScaler\n",
        "import tensorflow\n",
        "from tensorflow import keras\n",
        "from tensorflow.keras.models import Sequential\n",
        "from tensorflow.keras.layers import Dense\n",
        "from sklearn.metrics import classification_report, confusion_matrix"
      ],
      "execution_count": null,
      "outputs": []
    },
    {
      "cell_type": "code",
      "metadata": {
        "id": "hSQXeR4jijis"
      },
      "source": [
        "#importing the data\n",
        "data = pd.read_csv(\"https://raw.githubusercontent.com/MavenCode/KubeflowTraining/master/Data/Telco/Churn_Modelling.csv\")"
      ],
      "execution_count": null,
      "outputs": []
    },
    {
      "cell_type": "code",
      "metadata": {
        "id": "FU9LjkvmkqLK",
        "colab": {
          "base_uri": "https://localhost:8080/",
          "height": 204
        },
        "outputId": "52730538-f42a-47e8-caac-0047169b18e1"
      },
      "source": [
        "#viewing the data\n",
        "data.head()"
      ],
      "execution_count": null,
      "outputs": [
        {
          "output_type": "execute_result",
          "data": {
            "text/html": [
              "<div>\n",
              "<style scoped>\n",
              "    .dataframe tbody tr th:only-of-type {\n",
              "        vertical-align: middle;\n",
              "    }\n",
              "\n",
              "    .dataframe tbody tr th {\n",
              "        vertical-align: top;\n",
              "    }\n",
              "\n",
              "    .dataframe thead th {\n",
              "        text-align: right;\n",
              "    }\n",
              "</style>\n",
              "<table border=\"1\" class=\"dataframe\">\n",
              "  <thead>\n",
              "    <tr style=\"text-align: right;\">\n",
              "      <th></th>\n",
              "      <th>RowNumber</th>\n",
              "      <th>CustomerId</th>\n",
              "      <th>Surname</th>\n",
              "      <th>CreditScore</th>\n",
              "      <th>Geography</th>\n",
              "      <th>Gender</th>\n",
              "      <th>Age</th>\n",
              "      <th>Tenure</th>\n",
              "      <th>Balance</th>\n",
              "      <th>NumOfProducts</th>\n",
              "      <th>HasCrCard</th>\n",
              "      <th>IsActiveMember</th>\n",
              "      <th>EstimatedSalary</th>\n",
              "      <th>Exited</th>\n",
              "    </tr>\n",
              "  </thead>\n",
              "  <tbody>\n",
              "    <tr>\n",
              "      <th>0</th>\n",
              "      <td>1</td>\n",
              "      <td>15634602</td>\n",
              "      <td>Hargrave</td>\n",
              "      <td>619</td>\n",
              "      <td>France</td>\n",
              "      <td>Female</td>\n",
              "      <td>42</td>\n",
              "      <td>2</td>\n",
              "      <td>0.00</td>\n",
              "      <td>1</td>\n",
              "      <td>1</td>\n",
              "      <td>1</td>\n",
              "      <td>101348.88</td>\n",
              "      <td>1</td>\n",
              "    </tr>\n",
              "    <tr>\n",
              "      <th>1</th>\n",
              "      <td>2</td>\n",
              "      <td>15647311</td>\n",
              "      <td>Hill</td>\n",
              "      <td>608</td>\n",
              "      <td>Spain</td>\n",
              "      <td>Female</td>\n",
              "      <td>41</td>\n",
              "      <td>1</td>\n",
              "      <td>83807.86</td>\n",
              "      <td>1</td>\n",
              "      <td>0</td>\n",
              "      <td>1</td>\n",
              "      <td>112542.58</td>\n",
              "      <td>0</td>\n",
              "    </tr>\n",
              "    <tr>\n",
              "      <th>2</th>\n",
              "      <td>3</td>\n",
              "      <td>15619304</td>\n",
              "      <td>Onio</td>\n",
              "      <td>502</td>\n",
              "      <td>France</td>\n",
              "      <td>Female</td>\n",
              "      <td>42</td>\n",
              "      <td>8</td>\n",
              "      <td>159660.80</td>\n",
              "      <td>3</td>\n",
              "      <td>1</td>\n",
              "      <td>0</td>\n",
              "      <td>113931.57</td>\n",
              "      <td>1</td>\n",
              "    </tr>\n",
              "    <tr>\n",
              "      <th>3</th>\n",
              "      <td>4</td>\n",
              "      <td>15701354</td>\n",
              "      <td>Boni</td>\n",
              "      <td>699</td>\n",
              "      <td>France</td>\n",
              "      <td>Female</td>\n",
              "      <td>39</td>\n",
              "      <td>1</td>\n",
              "      <td>0.00</td>\n",
              "      <td>2</td>\n",
              "      <td>0</td>\n",
              "      <td>0</td>\n",
              "      <td>93826.63</td>\n",
              "      <td>0</td>\n",
              "    </tr>\n",
              "    <tr>\n",
              "      <th>4</th>\n",
              "      <td>5</td>\n",
              "      <td>15737888</td>\n",
              "      <td>Mitchell</td>\n",
              "      <td>850</td>\n",
              "      <td>Spain</td>\n",
              "      <td>Female</td>\n",
              "      <td>43</td>\n",
              "      <td>2</td>\n",
              "      <td>125510.82</td>\n",
              "      <td>1</td>\n",
              "      <td>1</td>\n",
              "      <td>1</td>\n",
              "      <td>79084.10</td>\n",
              "      <td>0</td>\n",
              "    </tr>\n",
              "  </tbody>\n",
              "</table>\n",
              "</div>"
            ],
            "text/plain": [
              "   RowNumber  CustomerId   Surname  ...  IsActiveMember EstimatedSalary Exited\n",
              "0          1    15634602  Hargrave  ...               1       101348.88      1\n",
              "1          2    15647311      Hill  ...               1       112542.58      0\n",
              "2          3    15619304      Onio  ...               0       113931.57      1\n",
              "3          4    15701354      Boni  ...               0        93826.63      0\n",
              "4          5    15737888  Mitchell  ...               1        79084.10      0\n",
              "\n",
              "[5 rows x 14 columns]"
            ]
          },
          "metadata": {},
          "execution_count": 3
        }
      ]
    },
    {
      "cell_type": "code",
      "metadata": {
        "id": "_JsW3VjgkuU9",
        "colab": {
          "base_uri": "https://localhost:8080/"
        },
        "outputId": "7753ab02-a4c6-4164-f13d-62b367ed7fc0"
      },
      "source": [
        "#check data summary\n",
        "data.info()"
      ],
      "execution_count": null,
      "outputs": [
        {
          "output_type": "stream",
          "name": "stdout",
          "text": [
            "<class 'pandas.core.frame.DataFrame'>\n",
            "RangeIndex: 10000 entries, 0 to 9999\n",
            "Data columns (total 14 columns):\n",
            " #   Column           Non-Null Count  Dtype  \n",
            "---  ------           --------------  -----  \n",
            " 0   RowNumber        10000 non-null  int64  \n",
            " 1   CustomerId       10000 non-null  int64  \n",
            " 2   Surname          10000 non-null  object \n",
            " 3   CreditScore      10000 non-null  int64  \n",
            " 4   Geography        10000 non-null  object \n",
            " 5   Gender           10000 non-null  object \n",
            " 6   Age              10000 non-null  int64  \n",
            " 7   Tenure           10000 non-null  int64  \n",
            " 8   Balance          10000 non-null  float64\n",
            " 9   NumOfProducts    10000 non-null  int64  \n",
            " 10  HasCrCard        10000 non-null  int64  \n",
            " 11  IsActiveMember   10000 non-null  int64  \n",
            " 12  EstimatedSalary  10000 non-null  float64\n",
            " 13  Exited           10000 non-null  int64  \n",
            "dtypes: float64(2), int64(9), object(3)\n",
            "memory usage: 1.1+ MB\n"
          ]
        }
      ]
    },
    {
      "cell_type": "code",
      "metadata": {
        "id": "stfInq_-k8Td",
        "colab": {
          "base_uri": "https://localhost:8080/"
        },
        "outputId": "d74ac510-c7ed-434a-825c-0c56d3bd8416"
      },
      "source": [
        "#re-check for null values\n",
        "data.isnull().sum()"
      ],
      "execution_count": null,
      "outputs": [
        {
          "output_type": "execute_result",
          "data": {
            "text/plain": [
              "RowNumber          0\n",
              "CustomerId         0\n",
              "Surname            0\n",
              "CreditScore        0\n",
              "Geography          0\n",
              "Gender             0\n",
              "Age                0\n",
              "Tenure             0\n",
              "Balance            0\n",
              "NumOfProducts      0\n",
              "HasCrCard          0\n",
              "IsActiveMember     0\n",
              "EstimatedSalary    0\n",
              "Exited             0\n",
              "dtype: int64"
            ]
          },
          "metadata": {},
          "execution_count": 5
        }
      ]
    },
    {
      "cell_type": "code",
      "metadata": {
        "id": "TeZ2mAq0lcDb",
        "colab": {
          "base_uri": "https://localhost:8080/"
        },
        "outputId": "058e88d2-be00-4d29-db5c-1364a560ffd7"
      },
      "source": [
        "#data types check\n",
        "data.dtypes"
      ],
      "execution_count": null,
      "outputs": [
        {
          "output_type": "execute_result",
          "data": {
            "text/plain": [
              "RowNumber            int64\n",
              "CustomerId           int64\n",
              "Surname             object\n",
              "CreditScore          int64\n",
              "Geography           object\n",
              "Gender              object\n",
              "Age                  int64\n",
              "Tenure               int64\n",
              "Balance            float64\n",
              "NumOfProducts        int64\n",
              "HasCrCard            int64\n",
              "IsActiveMember       int64\n",
              "EstimatedSalary    float64\n",
              "Exited               int64\n",
              "dtype: object"
            ]
          },
          "metadata": {},
          "execution_count": 6
        }
      ]
    },
    {
      "cell_type": "code",
      "metadata": {
        "id": "iWpK3EV1l1d4",
        "colab": {
          "base_uri": "https://localhost:8080/",
          "height": 204
        },
        "outputId": "52c55670-f8b2-4ed3-f50e-eb678f5bbc9e"
      },
      "source": [
        "#dropping columns that are not needed\n",
        "drop_df = data.drop(columns=['CustomerId','Surname','RowNumber'],axis=1)\n",
        "drop_df.head()"
      ],
      "execution_count": null,
      "outputs": [
        {
          "output_type": "execute_result",
          "data": {
            "text/html": [
              "<div>\n",
              "<style scoped>\n",
              "    .dataframe tbody tr th:only-of-type {\n",
              "        vertical-align: middle;\n",
              "    }\n",
              "\n",
              "    .dataframe tbody tr th {\n",
              "        vertical-align: top;\n",
              "    }\n",
              "\n",
              "    .dataframe thead th {\n",
              "        text-align: right;\n",
              "    }\n",
              "</style>\n",
              "<table border=\"1\" class=\"dataframe\">\n",
              "  <thead>\n",
              "    <tr style=\"text-align: right;\">\n",
              "      <th></th>\n",
              "      <th>CreditScore</th>\n",
              "      <th>Geography</th>\n",
              "      <th>Gender</th>\n",
              "      <th>Age</th>\n",
              "      <th>Tenure</th>\n",
              "      <th>Balance</th>\n",
              "      <th>NumOfProducts</th>\n",
              "      <th>HasCrCard</th>\n",
              "      <th>IsActiveMember</th>\n",
              "      <th>EstimatedSalary</th>\n",
              "      <th>Exited</th>\n",
              "    </tr>\n",
              "  </thead>\n",
              "  <tbody>\n",
              "    <tr>\n",
              "      <th>0</th>\n",
              "      <td>619</td>\n",
              "      <td>France</td>\n",
              "      <td>Female</td>\n",
              "      <td>42</td>\n",
              "      <td>2</td>\n",
              "      <td>0.00</td>\n",
              "      <td>1</td>\n",
              "      <td>1</td>\n",
              "      <td>1</td>\n",
              "      <td>101348.88</td>\n",
              "      <td>1</td>\n",
              "    </tr>\n",
              "    <tr>\n",
              "      <th>1</th>\n",
              "      <td>608</td>\n",
              "      <td>Spain</td>\n",
              "      <td>Female</td>\n",
              "      <td>41</td>\n",
              "      <td>1</td>\n",
              "      <td>83807.86</td>\n",
              "      <td>1</td>\n",
              "      <td>0</td>\n",
              "      <td>1</td>\n",
              "      <td>112542.58</td>\n",
              "      <td>0</td>\n",
              "    </tr>\n",
              "    <tr>\n",
              "      <th>2</th>\n",
              "      <td>502</td>\n",
              "      <td>France</td>\n",
              "      <td>Female</td>\n",
              "      <td>42</td>\n",
              "      <td>8</td>\n",
              "      <td>159660.80</td>\n",
              "      <td>3</td>\n",
              "      <td>1</td>\n",
              "      <td>0</td>\n",
              "      <td>113931.57</td>\n",
              "      <td>1</td>\n",
              "    </tr>\n",
              "    <tr>\n",
              "      <th>3</th>\n",
              "      <td>699</td>\n",
              "      <td>France</td>\n",
              "      <td>Female</td>\n",
              "      <td>39</td>\n",
              "      <td>1</td>\n",
              "      <td>0.00</td>\n",
              "      <td>2</td>\n",
              "      <td>0</td>\n",
              "      <td>0</td>\n",
              "      <td>93826.63</td>\n",
              "      <td>0</td>\n",
              "    </tr>\n",
              "    <tr>\n",
              "      <th>4</th>\n",
              "      <td>850</td>\n",
              "      <td>Spain</td>\n",
              "      <td>Female</td>\n",
              "      <td>43</td>\n",
              "      <td>2</td>\n",
              "      <td>125510.82</td>\n",
              "      <td>1</td>\n",
              "      <td>1</td>\n",
              "      <td>1</td>\n",
              "      <td>79084.10</td>\n",
              "      <td>0</td>\n",
              "    </tr>\n",
              "  </tbody>\n",
              "</table>\n",
              "</div>"
            ],
            "text/plain": [
              "   CreditScore Geography  Gender  ...  IsActiveMember  EstimatedSalary  Exited\n",
              "0          619    France  Female  ...               1        101348.88       1\n",
              "1          608     Spain  Female  ...               1        112542.58       0\n",
              "2          502    France  Female  ...               0        113931.57       1\n",
              "3          699    France  Female  ...               0         93826.63       0\n",
              "4          850     Spain  Female  ...               1         79084.10       0\n",
              "\n",
              "[5 rows x 11 columns]"
            ]
          },
          "metadata": {},
          "execution_count": 7
        }
      ]
    },
    {
      "cell_type": "code",
      "metadata": {
        "id": "sUMgvXTyqhY4",
        "colab": {
          "base_uri": "https://localhost:8080/"
        },
        "outputId": "cd6d21c7-23ad-4e47-ba52-5db70c94b176"
      },
      "source": [
        "#view unique features in Geograpy\n",
        "drop_df['Geography'].unique()\n"
      ],
      "execution_count": null,
      "outputs": [
        {
          "output_type": "execute_result",
          "data": {
            "text/plain": [
              "array(['France', 'Spain', 'Germany'], dtype=object)"
            ]
          },
          "metadata": {},
          "execution_count": 8
        }
      ]
    },
    {
      "cell_type": "code",
      "metadata": {
        "id": "pGtUW5QsxP0W",
        "colab": {
          "base_uri": "https://localhost:8080/"
        },
        "outputId": "7f607737-85f8-4e19-e765-5649ea77dbf3"
      },
      "source": [
        "drop_df['Gender'].unique()"
      ],
      "execution_count": null,
      "outputs": [
        {
          "output_type": "execute_result",
          "data": {
            "text/plain": [
              "array(['Female', 'Male'], dtype=object)"
            ]
          },
          "metadata": {},
          "execution_count": 9
        }
      ]
    },
    {
      "cell_type": "code",
      "metadata": {
        "id": "7-EdFHP0rKVP",
        "colab": {
          "base_uri": "https://localhost:8080/",
          "height": 204
        },
        "outputId": "cee3903d-7319-45d6-f37b-311aefc74ac4"
      },
      "source": [
        "#Viewing the independent features\n",
        "X = drop_df.iloc[:,:-1]\n",
        "X.head()"
      ],
      "execution_count": null,
      "outputs": [
        {
          "output_type": "execute_result",
          "data": {
            "text/html": [
              "<div>\n",
              "<style scoped>\n",
              "    .dataframe tbody tr th:only-of-type {\n",
              "        vertical-align: middle;\n",
              "    }\n",
              "\n",
              "    .dataframe tbody tr th {\n",
              "        vertical-align: top;\n",
              "    }\n",
              "\n",
              "    .dataframe thead th {\n",
              "        text-align: right;\n",
              "    }\n",
              "</style>\n",
              "<table border=\"1\" class=\"dataframe\">\n",
              "  <thead>\n",
              "    <tr style=\"text-align: right;\">\n",
              "      <th></th>\n",
              "      <th>CreditScore</th>\n",
              "      <th>Geography</th>\n",
              "      <th>Gender</th>\n",
              "      <th>Age</th>\n",
              "      <th>Tenure</th>\n",
              "      <th>Balance</th>\n",
              "      <th>NumOfProducts</th>\n",
              "      <th>HasCrCard</th>\n",
              "      <th>IsActiveMember</th>\n",
              "      <th>EstimatedSalary</th>\n",
              "    </tr>\n",
              "  </thead>\n",
              "  <tbody>\n",
              "    <tr>\n",
              "      <th>0</th>\n",
              "      <td>619</td>\n",
              "      <td>France</td>\n",
              "      <td>Female</td>\n",
              "      <td>42</td>\n",
              "      <td>2</td>\n",
              "      <td>0.00</td>\n",
              "      <td>1</td>\n",
              "      <td>1</td>\n",
              "      <td>1</td>\n",
              "      <td>101348.88</td>\n",
              "    </tr>\n",
              "    <tr>\n",
              "      <th>1</th>\n",
              "      <td>608</td>\n",
              "      <td>Spain</td>\n",
              "      <td>Female</td>\n",
              "      <td>41</td>\n",
              "      <td>1</td>\n",
              "      <td>83807.86</td>\n",
              "      <td>1</td>\n",
              "      <td>0</td>\n",
              "      <td>1</td>\n",
              "      <td>112542.58</td>\n",
              "    </tr>\n",
              "    <tr>\n",
              "      <th>2</th>\n",
              "      <td>502</td>\n",
              "      <td>France</td>\n",
              "      <td>Female</td>\n",
              "      <td>42</td>\n",
              "      <td>8</td>\n",
              "      <td>159660.80</td>\n",
              "      <td>3</td>\n",
              "      <td>1</td>\n",
              "      <td>0</td>\n",
              "      <td>113931.57</td>\n",
              "    </tr>\n",
              "    <tr>\n",
              "      <th>3</th>\n",
              "      <td>699</td>\n",
              "      <td>France</td>\n",
              "      <td>Female</td>\n",
              "      <td>39</td>\n",
              "      <td>1</td>\n",
              "      <td>0.00</td>\n",
              "      <td>2</td>\n",
              "      <td>0</td>\n",
              "      <td>0</td>\n",
              "      <td>93826.63</td>\n",
              "    </tr>\n",
              "    <tr>\n",
              "      <th>4</th>\n",
              "      <td>850</td>\n",
              "      <td>Spain</td>\n",
              "      <td>Female</td>\n",
              "      <td>43</td>\n",
              "      <td>2</td>\n",
              "      <td>125510.82</td>\n",
              "      <td>1</td>\n",
              "      <td>1</td>\n",
              "      <td>1</td>\n",
              "      <td>79084.10</td>\n",
              "    </tr>\n",
              "  </tbody>\n",
              "</table>\n",
              "</div>"
            ],
            "text/plain": [
              "   CreditScore Geography  Gender  ...  HasCrCard  IsActiveMember  EstimatedSalary\n",
              "0          619    France  Female  ...          1               1        101348.88\n",
              "1          608     Spain  Female  ...          0               1        112542.58\n",
              "2          502    France  Female  ...          1               0        113931.57\n",
              "3          699    France  Female  ...          0               0         93826.63\n",
              "4          850     Spain  Female  ...          1               1         79084.10\n",
              "\n",
              "[5 rows x 10 columns]"
            ]
          },
          "metadata": {},
          "execution_count": 10
        }
      ]
    },
    {
      "cell_type": "code",
      "metadata": {
        "id": "sYo8QcjGr-jv",
        "colab": {
          "base_uri": "https://localhost:8080/",
          "height": 204
        },
        "outputId": "3b65e429-b95f-4ca5-88b1-af4ef471ba56"
      },
      "source": [
        "Y = drop_df.iloc[:,-1:]\n",
        "Y.head()"
      ],
      "execution_count": null,
      "outputs": [
        {
          "output_type": "execute_result",
          "data": {
            "text/html": [
              "<div>\n",
              "<style scoped>\n",
              "    .dataframe tbody tr th:only-of-type {\n",
              "        vertical-align: middle;\n",
              "    }\n",
              "\n",
              "    .dataframe tbody tr th {\n",
              "        vertical-align: top;\n",
              "    }\n",
              "\n",
              "    .dataframe thead th {\n",
              "        text-align: right;\n",
              "    }\n",
              "</style>\n",
              "<table border=\"1\" class=\"dataframe\">\n",
              "  <thead>\n",
              "    <tr style=\"text-align: right;\">\n",
              "      <th></th>\n",
              "      <th>Exited</th>\n",
              "    </tr>\n",
              "  </thead>\n",
              "  <tbody>\n",
              "    <tr>\n",
              "      <th>0</th>\n",
              "      <td>1</td>\n",
              "    </tr>\n",
              "    <tr>\n",
              "      <th>1</th>\n",
              "      <td>0</td>\n",
              "    </tr>\n",
              "    <tr>\n",
              "      <th>2</th>\n",
              "      <td>1</td>\n",
              "    </tr>\n",
              "    <tr>\n",
              "      <th>3</th>\n",
              "      <td>0</td>\n",
              "    </tr>\n",
              "    <tr>\n",
              "      <th>4</th>\n",
              "      <td>0</td>\n",
              "    </tr>\n",
              "  </tbody>\n",
              "</table>\n",
              "</div>"
            ],
            "text/plain": [
              "   Exited\n",
              "0       1\n",
              "1       0\n",
              "2       1\n",
              "3       0\n",
              "4       0"
            ]
          },
          "metadata": {},
          "execution_count": 11
        }
      ]
    },
    {
      "cell_type": "code",
      "metadata": {
        "id": "nhwHlGrJn488",
        "colab": {
          "base_uri": "https://localhost:8080/",
          "height": 224
        },
        "outputId": "38f8f1bd-dc95-4162-a5a5-5cce3e859f58"
      },
      "source": [
        "#use onehot encoder and label encoder for the categorical features\n",
        "le = LabelEncoder()\n",
        "ohe = OneHotEncoder()\n",
        "\n",
        "X['Gender']= le.fit_transform(X['Gender'])\n",
        "geo_df = pd.DataFrame(ohe.fit_transform(X[['Geography']]).toarray())\n",
        "\n",
        "#getting feature name after onehotencoding\n",
        "geo_df.columns = ohe.get_feature_names(['Geography'])\n",
        "\n",
        "#merging geo_df with the main data\n",
        "X = X.join(geo_df)\n",
        "X.head()"
      ],
      "execution_count": null,
      "outputs": [
        {
          "output_type": "execute_result",
          "data": {
            "text/html": [
              "<div>\n",
              "<style scoped>\n",
              "    .dataframe tbody tr th:only-of-type {\n",
              "        vertical-align: middle;\n",
              "    }\n",
              "\n",
              "    .dataframe tbody tr th {\n",
              "        vertical-align: top;\n",
              "    }\n",
              "\n",
              "    .dataframe thead th {\n",
              "        text-align: right;\n",
              "    }\n",
              "</style>\n",
              "<table border=\"1\" class=\"dataframe\">\n",
              "  <thead>\n",
              "    <tr style=\"text-align: right;\">\n",
              "      <th></th>\n",
              "      <th>CreditScore</th>\n",
              "      <th>Geography</th>\n",
              "      <th>Gender</th>\n",
              "      <th>Age</th>\n",
              "      <th>Tenure</th>\n",
              "      <th>Balance</th>\n",
              "      <th>NumOfProducts</th>\n",
              "      <th>HasCrCard</th>\n",
              "      <th>IsActiveMember</th>\n",
              "      <th>EstimatedSalary</th>\n",
              "      <th>Geography_France</th>\n",
              "      <th>Geography_Germany</th>\n",
              "      <th>Geography_Spain</th>\n",
              "    </tr>\n",
              "  </thead>\n",
              "  <tbody>\n",
              "    <tr>\n",
              "      <th>0</th>\n",
              "      <td>619</td>\n",
              "      <td>France</td>\n",
              "      <td>0</td>\n",
              "      <td>42</td>\n",
              "      <td>2</td>\n",
              "      <td>0.00</td>\n",
              "      <td>1</td>\n",
              "      <td>1</td>\n",
              "      <td>1</td>\n",
              "      <td>101348.88</td>\n",
              "      <td>1.0</td>\n",
              "      <td>0.0</td>\n",
              "      <td>0.0</td>\n",
              "    </tr>\n",
              "    <tr>\n",
              "      <th>1</th>\n",
              "      <td>608</td>\n",
              "      <td>Spain</td>\n",
              "      <td>0</td>\n",
              "      <td>41</td>\n",
              "      <td>1</td>\n",
              "      <td>83807.86</td>\n",
              "      <td>1</td>\n",
              "      <td>0</td>\n",
              "      <td>1</td>\n",
              "      <td>112542.58</td>\n",
              "      <td>0.0</td>\n",
              "      <td>0.0</td>\n",
              "      <td>1.0</td>\n",
              "    </tr>\n",
              "    <tr>\n",
              "      <th>2</th>\n",
              "      <td>502</td>\n",
              "      <td>France</td>\n",
              "      <td>0</td>\n",
              "      <td>42</td>\n",
              "      <td>8</td>\n",
              "      <td>159660.80</td>\n",
              "      <td>3</td>\n",
              "      <td>1</td>\n",
              "      <td>0</td>\n",
              "      <td>113931.57</td>\n",
              "      <td>1.0</td>\n",
              "      <td>0.0</td>\n",
              "      <td>0.0</td>\n",
              "    </tr>\n",
              "    <tr>\n",
              "      <th>3</th>\n",
              "      <td>699</td>\n",
              "      <td>France</td>\n",
              "      <td>0</td>\n",
              "      <td>39</td>\n",
              "      <td>1</td>\n",
              "      <td>0.00</td>\n",
              "      <td>2</td>\n",
              "      <td>0</td>\n",
              "      <td>0</td>\n",
              "      <td>93826.63</td>\n",
              "      <td>1.0</td>\n",
              "      <td>0.0</td>\n",
              "      <td>0.0</td>\n",
              "    </tr>\n",
              "    <tr>\n",
              "      <th>4</th>\n",
              "      <td>850</td>\n",
              "      <td>Spain</td>\n",
              "      <td>0</td>\n",
              "      <td>43</td>\n",
              "      <td>2</td>\n",
              "      <td>125510.82</td>\n",
              "      <td>1</td>\n",
              "      <td>1</td>\n",
              "      <td>1</td>\n",
              "      <td>79084.10</td>\n",
              "      <td>0.0</td>\n",
              "      <td>0.0</td>\n",
              "      <td>1.0</td>\n",
              "    </tr>\n",
              "  </tbody>\n",
              "</table>\n",
              "</div>"
            ],
            "text/plain": [
              "   CreditScore Geography  ...  Geography_Germany  Geography_Spain\n",
              "0          619    France  ...                0.0              0.0\n",
              "1          608     Spain  ...                0.0              1.0\n",
              "2          502    France  ...                0.0              0.0\n",
              "3          699    France  ...                0.0              0.0\n",
              "4          850     Spain  ...                0.0              1.0\n",
              "\n",
              "[5 rows x 13 columns]"
            ]
          },
          "metadata": {},
          "execution_count": 12
        }
      ]
    },
    {
      "cell_type": "code",
      "metadata": {
        "id": "bJoYIGyH-Tw9"
      },
      "source": [
        "X = X.drop(columns=['Geography'],axis=1)"
      ],
      "execution_count": null,
      "outputs": []
    },
    {
      "cell_type": "code",
      "metadata": {
        "id": "p2aq_h-A-in3",
        "colab": {
          "base_uri": "https://localhost:8080/",
          "height": 204
        },
        "outputId": "5e471d60-8bce-4700-bad8-c476ce444ec0"
      },
      "source": [
        "X.head()"
      ],
      "execution_count": null,
      "outputs": [
        {
          "output_type": "execute_result",
          "data": {
            "text/html": [
              "<div>\n",
              "<style scoped>\n",
              "    .dataframe tbody tr th:only-of-type {\n",
              "        vertical-align: middle;\n",
              "    }\n",
              "\n",
              "    .dataframe tbody tr th {\n",
              "        vertical-align: top;\n",
              "    }\n",
              "\n",
              "    .dataframe thead th {\n",
              "        text-align: right;\n",
              "    }\n",
              "</style>\n",
              "<table border=\"1\" class=\"dataframe\">\n",
              "  <thead>\n",
              "    <tr style=\"text-align: right;\">\n",
              "      <th></th>\n",
              "      <th>CreditScore</th>\n",
              "      <th>Gender</th>\n",
              "      <th>Age</th>\n",
              "      <th>Tenure</th>\n",
              "      <th>Balance</th>\n",
              "      <th>NumOfProducts</th>\n",
              "      <th>HasCrCard</th>\n",
              "      <th>IsActiveMember</th>\n",
              "      <th>EstimatedSalary</th>\n",
              "      <th>Geography_France</th>\n",
              "      <th>Geography_Germany</th>\n",
              "      <th>Geography_Spain</th>\n",
              "    </tr>\n",
              "  </thead>\n",
              "  <tbody>\n",
              "    <tr>\n",
              "      <th>0</th>\n",
              "      <td>619</td>\n",
              "      <td>0</td>\n",
              "      <td>42</td>\n",
              "      <td>2</td>\n",
              "      <td>0.00</td>\n",
              "      <td>1</td>\n",
              "      <td>1</td>\n",
              "      <td>1</td>\n",
              "      <td>101348.88</td>\n",
              "      <td>1.0</td>\n",
              "      <td>0.0</td>\n",
              "      <td>0.0</td>\n",
              "    </tr>\n",
              "    <tr>\n",
              "      <th>1</th>\n",
              "      <td>608</td>\n",
              "      <td>0</td>\n",
              "      <td>41</td>\n",
              "      <td>1</td>\n",
              "      <td>83807.86</td>\n",
              "      <td>1</td>\n",
              "      <td>0</td>\n",
              "      <td>1</td>\n",
              "      <td>112542.58</td>\n",
              "      <td>0.0</td>\n",
              "      <td>0.0</td>\n",
              "      <td>1.0</td>\n",
              "    </tr>\n",
              "    <tr>\n",
              "      <th>2</th>\n",
              "      <td>502</td>\n",
              "      <td>0</td>\n",
              "      <td>42</td>\n",
              "      <td>8</td>\n",
              "      <td>159660.80</td>\n",
              "      <td>3</td>\n",
              "      <td>1</td>\n",
              "      <td>0</td>\n",
              "      <td>113931.57</td>\n",
              "      <td>1.0</td>\n",
              "      <td>0.0</td>\n",
              "      <td>0.0</td>\n",
              "    </tr>\n",
              "    <tr>\n",
              "      <th>3</th>\n",
              "      <td>699</td>\n",
              "      <td>0</td>\n",
              "      <td>39</td>\n",
              "      <td>1</td>\n",
              "      <td>0.00</td>\n",
              "      <td>2</td>\n",
              "      <td>0</td>\n",
              "      <td>0</td>\n",
              "      <td>93826.63</td>\n",
              "      <td>1.0</td>\n",
              "      <td>0.0</td>\n",
              "      <td>0.0</td>\n",
              "    </tr>\n",
              "    <tr>\n",
              "      <th>4</th>\n",
              "      <td>850</td>\n",
              "      <td>0</td>\n",
              "      <td>43</td>\n",
              "      <td>2</td>\n",
              "      <td>125510.82</td>\n",
              "      <td>1</td>\n",
              "      <td>1</td>\n",
              "      <td>1</td>\n",
              "      <td>79084.10</td>\n",
              "      <td>0.0</td>\n",
              "      <td>0.0</td>\n",
              "      <td>1.0</td>\n",
              "    </tr>\n",
              "  </tbody>\n",
              "</table>\n",
              "</div>"
            ],
            "text/plain": [
              "   CreditScore  Gender  ...  Geography_Germany  Geography_Spain\n",
              "0          619       0  ...                0.0              0.0\n",
              "1          608       0  ...                0.0              1.0\n",
              "2          502       0  ...                0.0              0.0\n",
              "3          699       0  ...                0.0              0.0\n",
              "4          850       0  ...                0.0              1.0\n",
              "\n",
              "[5 rows x 12 columns]"
            ]
          },
          "metadata": {},
          "execution_count": 14
        }
      ]
    },
    {
      "cell_type": "code",
      "metadata": {
        "id": "4Lq7wxF6Fsky",
        "colab": {
          "base_uri": "https://localhost:8080/",
          "height": 619
        },
        "outputId": "f72e2b57-5cba-47a5-ca3a-d9f2cf2e9ba1"
      },
      "source": [
        "#using heatmap see the correlation between each features\n",
        "plt.figure(figsize=(10,10))\n",
        "cor = data.corr()\n",
        "mask = np.zeros_like(cor)\n",
        "mask[np.triu_indices_from(mask)] = True\n",
        "sns.heatmap(cor, annot=True, cmap=plt.cm.Blues_r,mask=mask, vmax=.3, square=True)\n",
        "plt.show()\n"
      ],
      "execution_count": null,
      "outputs": [
        {
          "output_type": "display_data",
          "data": {
            "image/png": "[encoded data removed]",
            "text/plain": [
              "<Figure size 720x720 with 2 Axes>"
            ]
          },
          "metadata": {
            "needs_background": "light"
          }
        }
      ]
    },
    {
      "cell_type": "code",
      "metadata": {
        "id": "9IPC_NKIgI_a",
        "colab": {
          "base_uri": "https://localhost:8080/",
          "height": 175
        },
        "outputId": "1f772a08-683e-49ef-d5f1-4974c1564e02"
      },
      "source": [
        "sns.pairplot(data=drop_df,y_vars=['EstimatedSalary'], x_vars=['CreditScore','Geography','Gender','Age','Tenure',\n",
        "             'Balance','NumOfProducts','HasCrCard','IsActiveMember'])"
      ],
      "execution_count": null,
      "outputs": [
        {
          "output_type": "execute_result",
          "data": {
            "text/plain": [
              "<seaborn.axisgrid.PairGrid at 0x7f0a60e07a50>"
            ]
          },
          "metadata": {},
          "execution_count": 16
        },
        {
          "output_type": "display_data",
          "data": {
            "image/png": "[encoded data removed]",
            "text/plain": [
              "<Figure size 1620x180 with 9 Axes>"
            ]
          },
          "metadata": {
            "needs_background": "light"
          }
        }
      ]
    },
    {
      "cell_type": "markdown",
      "metadata": {
        "id": "7mAnDqo-T5kw"
      },
      "source": [
        "**Data** **spliting**"
      ]
    },
    {
      "cell_type": "code",
      "metadata": {
        "id": "8NU9amcvmg2U"
      },
      "source": [
        "X_train,X_test,Y_train,Y_test = train_test_split( X,Y, test_size=0.2, random_state = 42)"
      ],
      "execution_count": null,
      "outputs": []
    },
    {
      "cell_type": "code",
      "metadata": {
        "id": "ciEuSp6UWlpy",
        "colab": {
          "base_uri": "https://localhost:8080/"
        },
        "outputId": "53c1cc10-d5f9-463f-8ce7-8aa758a1ad7f"
      },
      "source": [
        "#Verify split\n",
        "data_dict = {\"X_train\":X_train, \"X_test\":X_test, \"y_train\":Y_train, \"y_test\":Y_test}\n",
        "for i in data_dict:\n",
        "    print(\"The shape of {} is {}\".format(i,data_dict[i].shape))"
      ],
      "execution_count": null,
      "outputs": [
        {
          "output_type": "stream",
          "name": "stdout",
          "text": [
            "The shape of X_train is (8000, 12)\n",
            "The shape of X_test is (2000, 12)\n",
            "The shape of y_train is (8000, 1)\n",
            "The shape of y_test is (2000, 1)\n"
          ]
        }
      ]
    },
    {
      "cell_type": "markdown",
      "metadata": {
        "id": "DMbjVya9abHo"
      },
      "source": [
        "**MIN-MAX SCALER**"
      ]
    },
    {
      "cell_type": "code",
      "metadata": {
        "id": "NelotBMtajAi"
      },
      "source": [
        "from sklearn.preprocessing import MinMaxScaler\n",
        "min_max_scaler = MinMaxScaler(feature_range =(0, 1))\n",
        "  \n",
        "# Scaled feature\n",
        "X_train = min_max_scaler.fit_transform(X_train)\n",
        "X_test = min_max_scaler.fit_transform(X_test)\n",
        "  "
      ],
      "execution_count": null,
      "outputs": []
    },
    {
      "cell_type": "markdown",
      "metadata": {
        "id": "XQbTkx-AcuqR"
      },
      "source": [
        "**Feature standardization**"
      ]
    },
    {
      "cell_type": "code",
      "metadata": {
        "id": "w9aIXAERdGaj"
      },
      "source": [
        "sc =StandardScaler()\n",
        "X_train = sc.fit_transform(X_train)\n",
        "X_test = sc.transform(X_test)\n"
      ],
      "execution_count": null,
      "outputs": []
    },
    {
      "cell_type": "code",
      "metadata": {
        "id": "BywKvGlUaZ2t"
      },
      "source": [
        "#saving the values from the dataframe\n",
        "y_train = Y_train.values"
      ],
      "execution_count": null,
      "outputs": []
    },
    {
      "cell_type": "code",
      "metadata": {
        "id": "J7XF1VbS1NFa"
      },
      "source": [
        "#using keras sequential model\n",
        "#initializing the classifier model with its input, hidden and output layers\n",
        "classifier = Sequential()\n",
        "classifier.add(Dense(units = 16, activation='relu', input_dim=12,))\n",
        "classifier.add(Dense(units = 8, activation='relu'))\n",
        "classifier.add(Dense(units = 1, activation='sigmoid'))"
      ],
      "execution_count": null,
      "outputs": []
    },
    {
      "cell_type": "markdown",
      "metadata": {
        "id": "PRa5bsvmlAU7"
      },
      "source": [
        "**Compiling the classifier model with Stochastic Gradient Descent**"
      ]
    },
    {
      "cell_type": "code",
      "metadata": {
        "id": "riQzKJKnk17Z"
      },
      "source": [
        "classifier.compile(optimizer = 'adam', loss='binary_crossentropy' , metrics =['accuracy'])"
      ],
      "execution_count": null,
      "outputs": []
    },
    {
      "cell_type": "code",
      "metadata": {
        "id": "P7r72JmiodyG",
        "colab": {
          "base_uri": "https://localhost:8080/"
        },
        "outputId": "b7b038fe-cfe2-4715-ec4c-2a22da1c5c1b"
      },
      "source": [
        "classifier.summary()"
      ],
      "execution_count": null,
      "outputs": [
        {
          "output_type": "stream",
          "name": "stdout",
          "text": [
            "Model: \"sequential\"\n",
            "_________________________________________________________________\n",
            "Layer (type)                 Output Shape              Param #   \n",
            "=================================================================\n",
            "dense (Dense)                (None, 16)                208       \n",
            "_________________________________________________________________\n",
            "dense_1 (Dense)              (None, 8)                 136       \n",
            "_________________________________________________________________\n",
            "dense_2 (Dense)              (None, 1)                 9         \n",
            "=================================================================\n",
            "Total params: 353\n",
            "Trainable params: 353\n",
            "Non-trainable params: 0\n",
            "_________________________________________________________________\n"
          ]
        }
      ]
    },
    {
      "cell_type": "markdown",
      "metadata": {
        "id": "3n4UDdqmljnP"
      },
      "source": [
        "**Fitting the classifier model**"
      ]
    },
    {
      "cell_type": "code",
      "metadata": {
        "id": "8zLHA4F_lklL",
        "colab": {
          "base_uri": "https://localhost:8080/"
        },
        "outputId": "3929c092-c0fd-4b85-a41e-fb44a4d74426"
      },
      "source": [
        "classifier.fit(X_train, y_train, batch_size=10 , epochs=50)"
      ],
      "execution_count": null,
      "outputs": [
        {
          "output_type": "stream",
          "name": "stdout",
          "text": [
            "Epoch 1/50\n",
            "800/800 [==============================] - 2s 1ms/step - loss: 0.5504 - accuracy: 0.7272\n",
            "Epoch 2/50\n",
            "800/800 [==============================] - 1s 1ms/step - loss: 0.4170 - accuracy: 0.8269\n",
            "Epoch 3/50\n",
            "800/800 [==============================] - 1s 1ms/step - loss: 0.3755 - accuracy: 0.8486\n",
            "Epoch 4/50\n",
            "800/800 [==============================] - 1s 1ms/step - loss: 0.3549 - accuracy: 0.8525\n",
            "Epoch 5/50\n",
            "800/800 [==============================] - 1s 1ms/step - loss: 0.3475 - accuracy: 0.8587\n",
            "Epoch 6/50\n",
            "800/800 [==============================] - 1s 1ms/step - loss: 0.3428 - accuracy: 0.8568\n",
            "Epoch 7/50\n",
            "800/800 [==============================] - 1s 1ms/step - loss: 0.3402 - accuracy: 0.8609\n",
            "Epoch 8/50\n",
            "800/800 [==============================] - 1s 1ms/step - loss: 0.3382 - accuracy: 0.8605\n",
            "Epoch 9/50\n",
            "800/800 [==============================] - 1s 1ms/step - loss: 0.3363 - accuracy: 0.8606\n",
            "Epoch 10/50\n",
            "800/800 [==============================] - 1s 1ms/step - loss: 0.3340 - accuracy: 0.8611\n",
            "Epoch 11/50\n",
            "800/800 [==============================] - 1s 1ms/step - loss: 0.3323 - accuracy: 0.8629\n",
            "Epoch 12/50\n",
            "800/800 [==============================] - 1s 1ms/step - loss: 0.3311 - accuracy: 0.8634\n",
            "Epoch 13/50\n",
            "800/800 [==============================] - 1s 1ms/step - loss: 0.3301 - accuracy: 0.8635\n",
            "Epoch 14/50\n",
            "800/800 [==============================] - 1s 1ms/step - loss: 0.3290 - accuracy: 0.8622\n",
            "Epoch 15/50\n",
            "800/800 [==============================] - 1s 1ms/step - loss: 0.3277 - accuracy: 0.8635\n",
            "Epoch 16/50\n",
            "800/800 [==============================] - 1s 1ms/step - loss: 0.3274 - accuracy: 0.8645\n",
            "Epoch 17/50\n",
            "800/800 [==============================] - 1s 1ms/step - loss: 0.3253 - accuracy: 0.8650\n",
            "Epoch 18/50\n",
            "800/800 [==============================] - 1s 1ms/step - loss: 0.3257 - accuracy: 0.8649\n",
            "Epoch 19/50\n",
            "800/800 [==============================] - 1s 1ms/step - loss: 0.3254 - accuracy: 0.8627\n",
            "Epoch 20/50\n",
            "800/800 [==============================] - 1s 1ms/step - loss: 0.3250 - accuracy: 0.8651\n",
            "Epoch 21/50\n",
            "800/800 [==============================] - 1s 1ms/step - loss: 0.3246 - accuracy: 0.8645\n",
            "Epoch 22/50\n",
            "800/800 [==============================] - 1s 1ms/step - loss: 0.3241 - accuracy: 0.8643\n",
            "Epoch 23/50\n",
            "800/800 [==============================] - 1s 1ms/step - loss: 0.3235 - accuracy: 0.8636\n",
            "Epoch 24/50\n",
            "800/800 [==============================] - 1s 1ms/step - loss: 0.3235 - accuracy: 0.8645\n",
            "Epoch 25/50\n",
            "800/800 [==============================] - 1s 1ms/step - loss: 0.3233 - accuracy: 0.8687\n",
            "Epoch 26/50\n",
            "800/800 [==============================] - 1s 1ms/step - loss: 0.3226 - accuracy: 0.8659\n",
            "Epoch 27/50\n",
            "800/800 [==============================] - 1s 1ms/step - loss: 0.3225 - accuracy: 0.8660\n",
            "Epoch 28/50\n",
            "800/800 [==============================] - 1s 1ms/step - loss: 0.3218 - accuracy: 0.8680\n",
            "Epoch 29/50\n",
            "800/800 [==============================] - 1s 1ms/step - loss: 0.3221 - accuracy: 0.8671\n",
            "Epoch 30/50\n",
            "800/800 [==============================] - 1s 1ms/step - loss: 0.3216 - accuracy: 0.8666\n",
            "Epoch 31/50\n",
            "800/800 [==============================] - 1s 1ms/step - loss: 0.3217 - accuracy: 0.8655\n",
            "Epoch 32/50\n",
            "800/800 [==============================] - 1s 1ms/step - loss: 0.3214 - accuracy: 0.8660\n",
            "Epoch 33/50\n",
            "800/800 [==============================] - 1s 1ms/step - loss: 0.3207 - accuracy: 0.8660\n",
            "Epoch 34/50\n",
            "800/800 [==============================] - 1s 1ms/step - loss: 0.3212 - accuracy: 0.8658\n",
            "Epoch 35/50\n",
            "800/800 [==============================] - 1s 1ms/step - loss: 0.3208 - accuracy: 0.8677\n",
            "Epoch 36/50\n",
            "800/800 [==============================] - 1s 1ms/step - loss: 0.3199 - accuracy: 0.8640\n",
            "Epoch 37/50\n",
            "800/800 [==============================] - 1s 1ms/step - loss: 0.3198 - accuracy: 0.8648\n",
            "Epoch 38/50\n",
            "800/800 [==============================] - 1s 1ms/step - loss: 0.3192 - accuracy: 0.8664\n",
            "Epoch 39/50\n",
            "800/800 [==============================] - 1s 1ms/step - loss: 0.3193 - accuracy: 0.8656\n",
            "Epoch 40/50\n",
            "800/800 [==============================] - 1s 1ms/step - loss: 0.3192 - accuracy: 0.8680\n",
            "Epoch 41/50\n",
            "800/800 [==============================] - 1s 1ms/step - loss: 0.3194 - accuracy: 0.8671\n",
            "Epoch 42/50\n",
            "800/800 [==============================] - 1s 1ms/step - loss: 0.3195 - accuracy: 0.8661\n",
            "Epoch 43/50\n",
            "800/800 [==============================] - 1s 1ms/step - loss: 0.3191 - accuracy: 0.8666\n",
            "Epoch 44/50\n",
            "800/800 [==============================] - 1s 1ms/step - loss: 0.3191 - accuracy: 0.8665\n",
            "Epoch 45/50\n",
            "800/800 [==============================] - 1s 1ms/step - loss: 0.3185 - accuracy: 0.8679\n",
            "Epoch 46/50\n",
            "800/800 [==============================] - 1s 1ms/step - loss: 0.3175 - accuracy: 0.8696\n",
            "Epoch 47/50\n",
            "800/800 [==============================] - 1s 1ms/step - loss: 0.3183 - accuracy: 0.8669\n",
            "Epoch 48/50\n",
            "800/800 [==============================] - 1s 1ms/step - loss: 0.3180 - accuracy: 0.8659\n",
            "Epoch 49/50\n",
            "800/800 [==============================] - 1s 1ms/step - loss: 0.3173 - accuracy: 0.8680\n",
            "Epoch 50/50\n",
            "800/800 [==============================] - 1s 1ms/step - loss: 0.3172 - accuracy: 0.8645\n"
          ]
        },
        {
          "output_type": "execute_result",
          "data": {
            "text/plain": [
              "<keras.callbacks.History at 0x7f0a4c987490>"
            ]
          },
          "metadata": {},
          "execution_count": 25
        }
      ]
    },
    {
      "cell_type": "markdown",
      "metadata": {
        "id": "CIUM5DMXzADZ"
      },
      "source": [
        "**Getting the model's predictions on the test data**"
      ]
    },
    {
      "cell_type": "code",
      "metadata": {
        "id": "ICI4tBl5rUDp",
        "colab": {
          "base_uri": "https://localhost:8080/"
        },
        "outputId": "adc26b69-2a86-4944-c6d3-449fe6db1c07"
      },
      "source": [
        "# These probabilities would help determine which of the customers have high risk of leaving the bank\n",
        "y_pred = classifier.predict(X_test)\n",
        "y_pred"
      ],
      "execution_count": null,
      "outputs": [
        {
          "output_type": "execute_result",
          "data": {
            "text/plain": [
              "array([[0.09040707],\n",
              "       [0.00800392],\n",
              "       [0.05274066],\n",
              "       ...,\n",
              "       [0.78113914],\n",
              "       [0.1280826 ],\n",
              "       [0.31744313]], dtype=float32)"
            ]
          },
          "metadata": {},
          "execution_count": 26
        }
      ]
    },
    {
      "cell_type": "code",
      "metadata": {
        "id": "43JALGPepcms",
        "colab": {
          "base_uri": "https://localhost:8080/"
        },
        "outputId": "8b0df6dc-b903-4fae-ec27-f008f5b39f65"
      },
      "source": [
        "# create a threshold for the confution matrics\n",
        "y_pred=(y_pred>0.5)\n",
        "y_pred\n"
      ],
      "execution_count": null,
      "outputs": [
        {
          "output_type": "execute_result",
          "data": {
            "text/plain": [
              "array([[False],\n",
              "       [False],\n",
              "       [False],\n",
              "       ...,\n",
              "       [ True],\n",
              "       [False],\n",
              "       [False]])"
            ]
          },
          "metadata": {},
          "execution_count": 27
        }
      ]
    },
    {
      "cell_type": "code",
      "metadata": {
        "id": "UpDyUbHJ3Cep",
        "colab": {
          "base_uri": "https://localhost:8080/"
        },
        "outputId": "cb797eca-96db-4a42-d743-8210fd8de866"
      },
      "source": [
        "countFalse =0\n",
        "countTrue =0\n",
        "for i in y_pred:\n",
        "    if i[0] == False:\n",
        "        countFalse += 1\n",
        "    else:\n",
        "        countTrue += 1\n",
        "print(\"countF :{} and countT: {}\".format(countFalse,countTrue))"
      ],
      "execution_count": null,
      "outputs": [
        {
          "output_type": "stream",
          "name": "stdout",
          "text": [
            "countF :1708 and countT: 292\n"
          ]
        }
      ]
    },
    {
      "cell_type": "code",
      "metadata": {
        "id": "B22gIGl_3Jja",
        "colab": {
          "base_uri": "https://localhost:8080/"
        },
        "outputId": "25b1752b-3834-497b-d43e-81e031f9fbe7"
      },
      "source": [
        "# confusion metrics\n",
        "cm = confusion_matrix(Y_test.values,y_pred)\n",
        "print(cm)"
      ],
      "execution_count": null,
      "outputs": [
        {
          "output_type": "stream",
          "name": "stdout",
          "text": [
            "[[1518   89]\n",
            " [ 190  203]]\n"
          ]
        }
      ]
    },
    {
      "cell_type": "markdown",
      "metadata": {
        "id": "DLFg8XfN4TBA"
      },
      "source": [
        "** classification of confusion matrix result**\n",
        "*   TN = 1533\n",
        "*   TP =180\n",
        "\n",
        "*   FN = 213\n",
        "*   FP = 74\n",
        "\n",
        "\n",
        "\n"
      ]
    },
    {
      "cell_type": "code",
      "metadata": {
        "id": "zpfSUDm25U8T",
        "colab": {
          "base_uri": "https://localhost:8080/"
        },
        "outputId": "a1365f3e-4a68-4879-949d-a09c8098f390"
      },
      "source": [
        "#classification report\n",
        "cr = classification_report(Y_test, y_pred)\n",
        "print(cr)"
      ],
      "execution_count": null,
      "outputs": [
        {
          "output_type": "stream",
          "name": "stdout",
          "text": [
            "              precision    recall  f1-score   support\n",
            "\n",
            "           0       0.89      0.94      0.92      1607\n",
            "           1       0.70      0.52      0.59       393\n",
            "\n",
            "    accuracy                           0.86      2000\n",
            "   macro avg       0.79      0.73      0.75      2000\n",
            "weighted avg       0.85      0.86      0.85      2000\n",
            "\n"
          ]
        }
      ]
    }
  ]
}